{
 "cells": [
  {
   "cell_type": "markdown",
   "metadata": {},
   "source": [
    "## Gameplay prototype"
   ]
  },
  {
   "cell_type": "code",
   "execution_count": 1,
   "metadata": {},
   "outputs": [],
   "source": [
    "import numpy as np"
   ]
  },
  {
   "cell_type": "code",
   "execution_count": 65,
   "metadata": {},
   "outputs": [],
   "source": [
    "class Gameplay:\n",
    "    def __init__(self, n_rows, n_cols):\n",
    "        self.n_rows = n_rows\n",
    "        self.n_cols = n_cols \n",
    "        self.prefixes = ['baba', 'rock', 'water', 'skull', 'wall', 'flag'] \n",
    "        self.suffixes = ['win', 'defeat', 'sink', 'you', 'push', 'stop']\n",
    "        self.rules = []\n",
    "        self.tiles = np.zeros((n_rows, n_cols), dtype=Tile) #chuot bach thay dtype=object bang tile\n",
    "        for i in range(n_cols):\n",
    "            for j in range(n_rows):\n",
    "                self.tiles[i,j] = Tile() \n",
    "    \n",
    "    def __repr__(self):\n",
    "        ret_val = ''\n",
    "        for i in range(self.n_rows):\n",
    "            for j in range(self.n_cols):\n",
    "                tile_string = ''\n",
    "                if len(self.tiles[i,j].objects) == 0:\n",
    "                    tile_string += '/'\n",
    "                    # tile_string += 'null'\n",
    "                else:\n",
    "                    for obj in self.tiles[i,j].objects:\n",
    "                        if isinstance(obj, Word):\n",
    "                            tile_string += obj.value.upper()\n",
    "                        else:\n",
    "                            tile_string += obj.property if obj.property !='' else 'null'\n",
    "                        tile_string += ','\n",
    "                ret_val += '{:10}'.format(tile_string)\n",
    "                # ret_val += tile_string\n",
    "            ret_val += '\\n'           \n",
    "        return ret_val\n",
    "\n",
    "    def get_rules(self):\n",
    "        self.rules = []\n",
    "        for i in range(self.n_rows):\n",
    "            for j in range(self.n_cols):\n",
    "                if self.tiles[i,j].find_word() == 'is':\n",
    "                    if j-1 >= 0 and j+1 <= self.n_cols-1:\n",
    "                        if self.tiles[i,j-1].find_word() in self.prefixes and self.tiles[i,j+1].find_word() in self.suffixes:\n",
    "                            self.rules += [Rule(self.tiles[i,j-1].find_word(),self.tiles[i,j+1].find_word())]\n",
    "                    if i-1 >= 0 and i+1 <= self.n_rows-1:\n",
    "                        if self.tiles[i-1,j].find_word() in self.prefixes and self.tiles[i+1,j].find_word() in self.suffixes:\n",
    "                            self.rules += [Rule(self.tiles[i-1,j].find_word(),self.tiles[i+1,j].find_word())]\n",
    "\n",
    "\n",
    "    # find a block upward (continuous)\n",
    "    # return block size if the block can be moved up\n",
    "    # return -1 if the block is blocked\n",
    "    def find_up_block(self, r, c):\n",
    "        if not self.tiles[r,c].have_you():\n",
    "            return 0\n",
    "        \n",
    "        current_row = r - 1 #dem row tu 0 nen phai -1\n",
    "        count = 1\n",
    "\n",
    "        if current_row < 0: #khong day block len duoc nua\n",
    "            return -1\n",
    "\n",
    "        while current_row >= 0 and self.tiles[current_row,c].have_push(): #trong truong hop day duoc block thi dem row\n",
    "            count += 1\n",
    "            current_row -= 1\n",
    "        \n",
    "        if self.tiles[current_row,c].have_stop() or current_row < 0: #check o tiep theo cua block co phai limit cua map hoac chua stop hay khong\n",
    "            return -1\n",
    "        else:\n",
    "            return count\n",
    "        \n",
    "\n",
    "    def move_up(self):\n",
    "        \n",
    "        for r in range(self.n_rows):\n",
    "            for c in range(self.n_cols):\n",
    "                size = self.find_up_block(r,c)\n",
    "                if size > 0:\n",
    "                    for current_row in range(r - size + 1, r + 1):\n",
    "                        temp = self.tiles[current_row,c].pop_push_or_you()\n",
    "                        self.tiles[current_row-1,c].objects = np.append(self.tiles[current_row-1,c].objects,[temp])\n",
    "\n",
    "\n",
    "\n",
    "    def move_down(self):\n",
    "        pass\n",
    "\n",
    "    def move_left(self):\n",
    "        pass\n",
    "\n",
    "    def move_right(self):\n",
    "        pass\n",
    "\n",
    "    def push(self, direction, rows, cols):\n",
    "        pass\n",
    "\n",
    "    def check_win(self):\n",
    "        pass\n",
    "\n",
    "    def check_lose(self):\n",
    "        pass\n",
    "\n",
    "    def reset_game(self):\n",
    "        pass\n",
    "\n",
    "    def load_map(self, map_file):\n",
    "        pass"
   ]
  },
  {
   "cell_type": "markdown",
   "metadata": {},
   "source": [
    "## Object prototype"
   ]
  },
  {
   "cell_type": "code",
   "execution_count": 3,
   "metadata": {},
   "outputs": [],
   "source": [
    "class Object:\n",
    "    def __init__(self, property=''):\n",
    "        self.property = property\n",
    "    \n",
    "    def interact(self, another_object:object):\n",
    "        pass"
   ]
  },
  {
   "cell_type": "code",
   "execution_count": 4,
   "metadata": {},
   "outputs": [],
   "source": [
    "class Baba(Object):\n",
    "    def interact(self, another_object:object):\n",
    "        pass"
   ]
  },
  {
   "cell_type": "code",
   "execution_count": 5,
   "metadata": {},
   "outputs": [],
   "source": [
    "class Rock(Object):\n",
    "    def interact(self, another_object:object):\n",
    "        pass"
   ]
  },
  {
   "cell_type": "code",
   "execution_count": 6,
   "metadata": {},
   "outputs": [],
   "source": [
    "class Water(Object):\n",
    "    def interact(self, another_object:object):\n",
    "        pass"
   ]
  },
  {
   "cell_type": "code",
   "execution_count": 7,
   "metadata": {},
   "outputs": [],
   "source": [
    "class Wall(Object):\n",
    "    def interact(self, another_object:object):\n",
    "        pass"
   ]
  },
  {
   "cell_type": "code",
   "execution_count": 8,
   "metadata": {},
   "outputs": [],
   "source": [
    "class Flag(Object):\n",
    "    def interact(self, another_object:object):\n",
    "        pass"
   ]
  },
  {
   "cell_type": "code",
   "execution_count": 9,
   "metadata": {},
   "outputs": [],
   "source": [
    "class Skull(Object):\n",
    "    def interact(self, another_object:object):\n",
    "        pass"
   ]
  },
  {
   "cell_type": "code",
   "execution_count": 10,
   "metadata": {},
   "outputs": [],
   "source": [
    "class Word(Object):\n",
    "    def __init__(self, value):\n",
    "        super().__init__('push')\n",
    "        self.value = value\n",
    "\n",
    "    def interact(self, another_object:object):\n",
    "        pass"
   ]
  },
  {
   "cell_type": "markdown",
   "metadata": {},
   "source": [
    "## Rule prototype"
   ]
  },
  {
   "cell_type": "code",
   "execution_count": 11,
   "metadata": {},
   "outputs": [],
   "source": [
    "class Rule:\n",
    "    def __init__(self, first, second):\n",
    "        self.first = first\n",
    "        self.second = second\n",
    "    def __repr__(self):\n",
    "        return self.first + \" is \" + self.second\n",
    "            "
   ]
  },
  {
   "cell_type": "markdown",
   "metadata": {},
   "source": [
    "## Tile prototype"
   ]
  },
  {
   "cell_type": "code",
   "execution_count": 43,
   "metadata": {},
   "outputs": [],
   "source": [
    "class Tile:\n",
    "    def __init__(self):\n",
    "        self.objects = np.array([], dtype=object)\n",
    "    def add_object(self, obj : Object):\n",
    "        self.objects = np.append(self.objects, [obj])\n",
    "    def find_word(self):\n",
    "        for obj in self.objects:\n",
    "            if isinstance(obj, Word):\n",
    "                return obj.value\n",
    "        return ''\n",
    "    \n",
    "    def pop_push_or_you(self):\n",
    "        position = -1\n",
    "        for i in range(len(self.objects)):\n",
    "            if self.objects[i].property == 'push' or self.objects[i].property == 'you':\n",
    "                position = i\n",
    "        temp_object = self.objects[position]\n",
    "        self.objects = np.delete(self.objects, position)\n",
    "\n",
    "\n",
    "        return temp_object       \n",
    "\n",
    "\n",
    "    def have_push(self):\n",
    "        for obj in self.objects:\n",
    "            if obj.property == 'push':\n",
    "                return True\n",
    "        return False\n",
    "\n",
    "    def have_you(self):\n",
    "        for obj in self.objects:\n",
    "            if obj.property == 'you':\n",
    "                return True\n",
    "        return False\n",
    "\n",
    "    def have_stop(self):\n",
    "        for obj in self.objects:\n",
    "            if obj.property == 'stop':\n",
    "                return True\n",
    "        return False"
   ]
  },
  {
   "cell_type": "markdown",
   "metadata": {},
   "source": [
    "## Unit Test"
   ]
  },
  {
   "cell_type": "code",
   "execution_count": 31,
   "metadata": {},
   "outputs": [
    {
     "name": "stdout",
     "output_type": "stream",
     "text": [
      "[rock is push, baba is you]\n",
      "/         /         /         null,     /         \n",
      "/         /         /         BABA,null,/         \n",
      "/         /         ROCK,     IS,       PUSH,     \n",
      "/         /         /         YOU,      /         \n",
      "/         /         /         /         /         \n",
      "\n"
     ]
    }
   ],
   "source": [
    "test = Gameplay(5,5)\n",
    "test.tiles[1,3].add_object(Word('baba'))\n",
    "test.tiles[1,3].add_object(Rock())\n",
    "test.tiles[0,3].add_object(Rock())\n",
    "test.tiles[2,3].add_object(Word('is'))\n",
    "test.tiles[3,3].add_object(Word('you'))\n",
    "test.tiles[2,2].add_object(Word('rock'))\n",
    "test.tiles[2,4].add_object(Word('push'))\n",
    "test.get_rules()\n",
    "print(test.rules)\n",
    "print(test)\n"
   ]
  },
  {
   "cell_type": "code",
   "execution_count": 20,
   "metadata": {},
   "outputs": [
    {
     "data": {
      "text/plain": [
       "False"
      ]
     },
     "execution_count": 20,
     "metadata": {},
     "output_type": "execute_result"
    }
   ],
   "source": [
    "test.tiles[0,3].have_push()"
   ]
  },
  {
   "cell_type": "code",
   "execution_count": 14,
   "metadata": {},
   "outputs": [
    {
     "name": "stdout",
     "output_type": "stream",
     "text": [
      "\n"
     ]
    }
   ],
   "source": [
    "t = Tile()\n",
    "#t.add_object(Word('water'))\n",
    "print(t.find_word())"
   ]
  },
  {
   "cell_type": "markdown",
   "metadata": {},
   "source": [
    "Test movement"
   ]
  },
  {
   "cell_type": "code",
   "execution_count": 73,
   "metadata": {},
   "outputs": [
    {
     "name": "stdout",
     "output_type": "stream",
     "text": [
      "/         /         /         /         /         \n",
      "/         /         PUSH,     /         /         \n",
      "/         /         ROCK,     IS,       PUSH,     \n",
      "/         /         you,      you,      /         \n",
      "/         /         /         /         /         \n",
      "\n"
     ]
    }
   ],
   "source": [
    "test_movement = Gameplay(5,5)\n",
    "test_movement.tiles[1,2].add_object(Word('push'))\n",
    "test_movement.tiles[2,2].add_object(Word('rock'))\n",
    "test_movement.tiles[3,2].add_object(Baba('you'))\n",
    "test_movement.tiles[2,3].add_object(Word('is'))\n",
    "test_movement.tiles[3,3].add_object(Baba('you'))\n",
    "test_movement.tiles[2,4].add_object(Word('push'))\n",
    "test_movement.get_rules()\n",
    "print(test_movement)"
   ]
  },
  {
   "cell_type": "code",
   "execution_count": 74,
   "metadata": {},
   "outputs": [
    {
     "name": "stdout",
     "output_type": "stream",
     "text": [
      "3\n",
      "1\n",
      "push\n",
      "2\n",
      "push\n",
      "3\n",
      "you\n",
      "2\n",
      "2\n",
      "push\n",
      "3\n",
      "you\n"
     ]
    }
   ],
   "source": [
    "test_movement.move_up()"
   ]
  },
  {
   "cell_type": "code",
   "execution_count": 75,
   "metadata": {},
   "outputs": [
    {
     "name": "stdout",
     "output_type": "stream",
     "text": [
      "/         /         PUSH,     /         /         \n",
      "/         /         ROCK,     IS,       /         \n",
      "/         /         you,      you,      PUSH,     \n",
      "/         /         /         /         /         \n",
      "/         /         /         /         /         \n",
      "\n"
     ]
    }
   ],
   "source": [
    "print(test_movement)"
   ]
  }
 ],
 "metadata": {
  "interpreter": {
   "hash": "f3be62fbed0773d308cc5a2cdab69d893c57d76fcb7b369dd526b73ecb8915f4"
  },
  "kernelspec": {
   "display_name": "Python 3.8.8 ('base')",
   "language": "python",
   "name": "python3"
  },
  "language_info": {
   "codemirror_mode": {
    "name": "ipython",
    "version": 3
   },
   "file_extension": ".py",
   "mimetype": "text/x-python",
   "name": "python",
   "nbconvert_exporter": "python",
   "pygments_lexer": "ipython3",
   "version": "3.8.8"
  },
  "orig_nbformat": 4
 },
 "nbformat": 4,
 "nbformat_minor": 2
}
