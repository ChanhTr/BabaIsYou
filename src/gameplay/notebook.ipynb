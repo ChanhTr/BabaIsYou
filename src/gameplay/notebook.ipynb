{
 "cells": [
  {
   "cell_type": "markdown",
   "metadata": {},
   "source": [
    "## Gameplay prototype"
   ]
  },
  {
   "cell_type": "code",
   "execution_count": 33,
   "metadata": {},
   "outputs": [],
   "source": [
    "import numpy as np\n",
    "import pandas as pd"
   ]
  },
  {
   "cell_type": "code",
   "execution_count": 34,
   "metadata": {},
   "outputs": [],
   "source": [
    "class Gameplay:\n",
    "    def __init__(self, n_rows, n_cols):\n",
    "        self.n_rows = n_rows\n",
    "        self.n_cols = n_cols \n",
    "        self.prefixes = ['baba', 'rock', 'water', 'skull', 'wall', 'flag'] \n",
    "        self.suffixes = ['win', 'defeat', 'sink', 'you', 'push', 'stop']\n",
    "        self.rules = []\n",
    "        self.tiles = np.zeros((n_rows, n_cols), dtype=Tile) #chuot bach thay dtype=object bang tile\n",
    "        for i in range(n_rows):\n",
    "            for j in range(n_cols):\n",
    "                self.tiles[i,j] = Tile() \n",
    "    \n",
    "    def __repr__(self):\n",
    "        ret_val = ''\n",
    "        for i in range(self.n_rows):\n",
    "            for j in range(self.n_cols):\n",
    "                tile_string = ''\n",
    "                if len(self.tiles[i,j].objects) == 0:\n",
    "                    tile_string += '/'\n",
    "                    # tile_string += 'null'\n",
    "                else:\n",
    "                    for obj in self.tiles[i,j].objects:\n",
    "                        if isinstance(obj, Word):\n",
    "                            tile_string += obj.value.upper() \n",
    "                        else:\n",
    "                            tile_string += obj.property if obj.property !='' else 'null'\n",
    "                        tile_string += ','\n",
    "                ret_val += '{:10}'.format(tile_string)\n",
    "                # ret_val += tile_string\n",
    "            ret_val += '\\n'           \n",
    "        return ret_val\n",
    "\n",
    "    def get_rules(self):\n",
    "        self.rules = []\n",
    "        for i in range(self.n_rows):\n",
    "            for j in range(self.n_cols):\n",
    "                if self.tiles[i,j].find_word() == 'is':\n",
    "                    if j-1 >= 0 and j+1 <= self.n_cols-1:\n",
    "                        if self.tiles[i,j-1].find_word() in self.prefixes and self.tiles[i,j+1].find_word() in self.suffixes:\n",
    "                            self.rules += [Rule(self.tiles[i,j-1].find_word(),self.tiles[i,j+1].find_word())]\n",
    "                    if i-1 >= 0 and i+1 <= self.n_rows-1:\n",
    "                        if self.tiles[i-1,j].find_word() in self.prefixes and self.tiles[i+1,j].find_word() in self.suffixes:\n",
    "                            self.rules += [Rule(self.tiles[i-1,j].find_word(),self.tiles[i+1,j].find_word())]\n",
    "    \n",
    "    def apply_rules(self):\n",
    "        for i in range(self.n_rows):\n",
    "            for j in range(self.n_cols):\n",
    "                tile = self.tiles[i,j]\n",
    "                for obj in tile.objects:\n",
    "                    for rule in self.rules:\n",
    "                        if obj.name == rule.first:\n",
    "                            obj.property = rule.second\n",
    "\n",
    "    # find a block upward (continuous)\n",
    "    # return block size if the block can be moved up\n",
    "    # return -1 if the block is blocked\n",
    "    def find_up_block(self, r, c):\n",
    "        if not self.tiles[r,c].have_property('you'):\n",
    "            return 0\n",
    "        \n",
    "        current_row = r - 1 #dem row tu 0 nen phai -1\n",
    "        count = 1\n",
    "\n",
    "        if current_row < 0: #khong day block len duoc nua\n",
    "            return -1\n",
    "\n",
    "        while current_row >= 0 and self.tiles[current_row,c].have_property('push'): #trong truong hop day duoc block thi dem row\n",
    "            count += 1\n",
    "            current_row -= 1\n",
    "        \n",
    "        if current_row < 0  or self.tiles[current_row,c].have_property('stop') or self.tiles[current_row,c].have_property('you'): #check o tiep theo cua block co phai limit cua map hoac chua stop hay khong\n",
    "            return -1\n",
    "        else:\n",
    "            return count\n",
    "\n",
    "    def find_down_block(self, r, c):\n",
    "        if not self.tiles[r,c].have_property('you'):\n",
    "            return 0\n",
    "        \n",
    "        current_row = r + 1 \n",
    "        count = 1\n",
    "\n",
    "        if current_row >= self.n_rows: \n",
    "            return -1\n",
    "\n",
    "        while current_row < self.n_rows and self.tiles[current_row,c].have_property('push'): \n",
    "            count += 1\n",
    "            current_row += 1\n",
    "        \n",
    "        if current_row >= self.n_rows or self.tiles[current_row,c].have_property('stop') or self.tiles[current_row,c].have_property('you'): \n",
    "            return -1\n",
    "        else:\n",
    "            return count    \n",
    "\n",
    "    def find_left_block(self, r, c):\n",
    "        if not self.tiles[r,c].have_property('you'):\n",
    "            return 0\n",
    "        \n",
    "        current_col = c - 1 #dem row tu 0 nen phai -1\n",
    "        count = 1\n",
    "\n",
    "        if current_col < 0: #khong day block len duoc nua\n",
    "            return -1\n",
    "\n",
    "        while current_col >= 0 and self.tiles[r,current_col].have_property('push'): #trong truong hop day duoc block thi dem row\n",
    "            count += 1\n",
    "            current_col -= 1\n",
    "        \n",
    "        if current_col < 0  or self.tiles[r,current_col].have_property('stop') or self.tiles[r,current_col].have_property('you'): #check o tiep theo cua block co phai limit cua map hoac chua stop hay khong\n",
    "            return -1\n",
    "        else:\n",
    "            return count\n",
    "\n",
    "    def find_right_block(self, r, c):\n",
    "        if not self.tiles[r,c].have_property('you'):\n",
    "            return 0\n",
    "        \n",
    "        current_col = c + 1 \n",
    "        count = 1\n",
    "\n",
    "        if current_col >= self.n_cols: \n",
    "            return -1\n",
    "\n",
    "        while current_col < self.n_cols and self.tiles[r,current_col].have_property('push'): \n",
    "            count += 1\n",
    "            current_col += 1\n",
    "        \n",
    "        if current_col >= self.n_cols or self.tiles[r,current_col].have_property('stop') or self.tiles[r,current_col].have_property('you'): \n",
    "            return -1\n",
    "        else:\n",
    "            return count   \n",
    "\n",
    "    def move_up(self):  \n",
    "        for r in range(self.n_rows):\n",
    "            for c in range(self.n_cols):\n",
    "                size = self.find_up_block(r,c)\n",
    "                if size > 0:\n",
    "                    for current_row in range(r - size + 1, r + 1):\n",
    "                        temp = self.tiles[current_row,c].pop_push_or_you()\n",
    "                        self.tiles[current_row-1,c].objects = np.append(self.tiles[current_row-1,c].objects,[temp])\n",
    "\n",
    "\n",
    "    def move_down(self):\n",
    "        for r in range(self.n_rows-1, -1, -1):\n",
    "            for c in range(self.n_cols):\n",
    "                size = self.find_down_block(r,c)\n",
    "                if size > 0:\n",
    "                    for current_row in range(r + size - 1, r - 1, -1):\n",
    "                        temp = self.tiles[current_row,c].pop_push_or_you()\n",
    "                        self.tiles[current_row+1,c].objects = np.append(self.tiles[current_row+1,c].objects,[temp])\n",
    "        \n",
    "\n",
    "    def move_left(self):\n",
    "        for c in range(self.n_cols):\n",
    "            for r in range(self.n_rows):\n",
    "                size = self.find_left_block(r,c)\n",
    "                if size > 0:\n",
    "                    for current_col in range(c - size + 1, c + 1):\n",
    "                        temp = self.tiles[r,current_col].pop_push_or_you() #luu o hien tai vao 1 bien tam thoi\n",
    "                        self.tiles[r,current_col-1].objects = np.append(self.tiles[r,current_col-1].objects,[temp]) #dan vao o tiep theo\n",
    "        \n",
    "\n",
    "    def move_right(self):\n",
    "        for c in range(self.n_cols-1, -1, -1):\n",
    "            for r in range(self.n_rows):\n",
    "                size = self.find_right_block(r,c)\n",
    "                if size > 0:\n",
    "                    for current_col in range(c + size - 1, c - 1, -1):\n",
    "                        temp = self.tiles[r,current_col].pop_push_or_you()\n",
    "                        self.tiles[r,current_col+1].objects = np.append(self.tiles[r,current_col+1].objects,[temp])\n",
    "        \n",
    "\n",
    "    def check_win(self):\n",
    "        for r in range(self.n_rows):\n",
    "            for c in range(self.n_cols):\n",
    "                if self.tiles[r,c].have_property('you') and self.tiles[r,c].have_property('win'):\n",
    "                    return True\n",
    "        return False\n",
    "\n",
    "    def check_lose(self):\n",
    "        for r in range(self.n_rows):\n",
    "            for c in range(self.n_cols):\n",
    "                if self.tiles[r,c].have_property('you'):\n",
    "                    return False\n",
    "        return True\n",
    "\n",
    "    def reset_game(self):\n",
    "        self.load_map(self.map_file,self.info_file)\n",
    "        pass\n",
    "\n",
    "    def load_map(self, map_file, info_file):\n",
    "        self.map_file = map_file\n",
    "        self.info_file = info_file\n",
    "        with open(info_file) as f:\n",
    "            self.n_rows = int(f.readline())\n",
    "            self.n_cols = int(f.readline())\n",
    "        self.rules = []\n",
    "        self.tiles = np.zeros((self.n_rows, self.n_cols), dtype=Tile) #reset va resize cho vua info file\n",
    "        for i in range(self.n_rows):\n",
    "            for j in range(self.n_cols):\n",
    "                self.tiles[i,j] = Tile() \n",
    "        map_data = pd.read_csv(map_file, header = None, sep = ';')\n",
    "        map_array = np.array(map_data, dtype = str)\n",
    "        for r in range(self.n_rows):\n",
    "            for c in range(self.n_cols):\n",
    "                value_data = map_array[r,c].split('/')\n",
    "                for value in value_data:\n",
    "                    if value == '':\n",
    "                        continue\n",
    "                    elif value == 'baba':\n",
    "                        self.tiles[r,c].add_object(Baba())\n",
    "                    elif value == 'rock':\n",
    "                        self.tiles[r,c].add_object(Rock())\n",
    "                    elif value == 'water':\n",
    "                        self.tiles[r,c].add_object(Water())\n",
    "                    elif value == 'skull':\n",
    "                        self.tiles[r,c].add_object(Skull())\n",
    "                    elif value == 'wall':\n",
    "                        self.tiles[r,c].add_object(Wall())\n",
    "                    elif value == 'flag':\n",
    "                        self.tiles[r,c].add_object(Flag())\n",
    "                    elif value.isupper():\n",
    "                        self.tiles[r,c].add_object(Word(value.lower()))   "
   ]
  },
  {
   "cell_type": "markdown",
   "metadata": {},
   "source": [
    "## Object prototype"
   ]
  },
  {
   "cell_type": "code",
   "execution_count": 35,
   "metadata": {},
   "outputs": [],
   "source": [
    "class Object:\n",
    "    interaction_table = {'win': {'win': None, 'defeat': None, 'sink': None, 'you': None, 'push': None, 'stop': None},\\\n",
    "                        'defeat': {'win': None, 'defeat': None, 'sink': None, 'you': 'defeat', 'push': None, 'stop': None},\n",
    "                        'sink': {'win': None, 'defeat': None, 'sink': None, 'you': '', 'push': '', 'stop': None}, \\\n",
    "                        'you': {'win': None, 'defeat': 'defeat', 'sink': '', 'you': None, 'push': None, 'stop': None}, \\\n",
    "                        'push': {'win': None, 'defeat': None, 'sink': '', 'you': None, 'push': None, 'stop': None}, \\\n",
    "                        'stop': {'win': None, 'defeat': None, 'sink': None, 'you': None, 'push': None, 'stop': None}}\n",
    "    \n",
    "    def __init__(self, property = '', name =''):\n",
    "        self.name = name\n",
    "        self.property = property\n",
    "    \n",
    "    def interact(self, another_object:object):\n",
    "        pass"
   ]
  },
  {
   "cell_type": "code",
   "execution_count": 36,
   "metadata": {},
   "outputs": [],
   "source": [
    "class Baba(Object):\n",
    "    def __init__(self, property = ''):\n",
    "        super().__init__(property,'baba')\n",
    "        \n",
    "    def interact(self, another_object:object):\n",
    "        \n",
    "        pass"
   ]
  },
  {
   "cell_type": "code",
   "execution_count": 37,
   "metadata": {},
   "outputs": [],
   "source": [
    "class Rock(Object):\n",
    "    def __init__(self, property = ''):\n",
    "        super().__init__(property,'rock')\n",
    "\n",
    "    def interact(self, another_object:object):\n",
    "        \n",
    "        pass"
   ]
  },
  {
   "cell_type": "code",
   "execution_count": 38,
   "metadata": {},
   "outputs": [],
   "source": [
    "class Water(Object):\n",
    "    def __init__(self, property = ''):\n",
    "        super().__init__(property,'water')\n",
    "\n",
    "    def interact(self, another_object:object):\n",
    "        pass"
   ]
  },
  {
   "cell_type": "code",
   "execution_count": 39,
   "metadata": {},
   "outputs": [],
   "source": [
    "class Wall(Object):\n",
    "    def __init__(self, property = ''):\n",
    "        super().__init__(property,'wall')\n",
    "\n",
    "    def interact(self, another_object:object):\n",
    "        pass"
   ]
  },
  {
   "cell_type": "code",
   "execution_count": 40,
   "metadata": {},
   "outputs": [],
   "source": [
    "class Flag(Object):\n",
    "    def __init__(self, property = ''):\n",
    "        super().__init__(property,'flag')\n",
    "\n",
    "    def interact(self, another_object:object):\n",
    "        pass"
   ]
  },
  {
   "cell_type": "code",
   "execution_count": 41,
   "metadata": {},
   "outputs": [],
   "source": [
    "class Skull(Object):\n",
    "    def __init__(self, property = ''):\n",
    "        super().__init__(property,'skull')\n",
    "\n",
    "    def interact(self, another_object:object):\n",
    "        pass"
   ]
  },
  {
   "cell_type": "code",
   "execution_count": 42,
   "metadata": {},
   "outputs": [],
   "source": [
    "class Word(Object):\n",
    "    def __init__(self, value):\n",
    "        super().__init__('','push')\n",
    "        self.value = value\n",
    "\n",
    "    def interact(self, another_object:object):\n",
    "        pass"
   ]
  },
  {
   "cell_type": "markdown",
   "metadata": {},
   "source": [
    "## Rule prototype"
   ]
  },
  {
   "cell_type": "code",
   "execution_count": 43,
   "metadata": {},
   "outputs": [],
   "source": [
    "class Rule:\n",
    "    def __init__(self, first, second):\n",
    "        self.first = first\n",
    "        self.second = second\n",
    "    def __repr__(self):\n",
    "        return self.first + \" is \" + self.second\n",
    "            "
   ]
  },
  {
   "cell_type": "markdown",
   "metadata": {},
   "source": [
    "## Tile prototype"
   ]
  },
  {
   "cell_type": "code",
   "execution_count": 44,
   "metadata": {},
   "outputs": [],
   "source": [
    "class Tile:\n",
    "    def __init__(self):\n",
    "        self.objects = np.array([], dtype=object)\n",
    "    def add_object(self, obj : Object):\n",
    "        self.objects = np.append(self.objects, [obj])\n",
    "    def find_word(self):\n",
    "        for obj in self.objects:\n",
    "            if isinstance(obj, Word):\n",
    "                return obj.value\n",
    "        return ''\n",
    "    \n",
    "    def pop_push_or_you(self):\n",
    "        position = -1\n",
    "        for i in range(len(self.objects)):\n",
    "            if self.objects[i].property == 'push' or self.objects[i].property == 'you':\n",
    "                position = i\n",
    "        temp_object = self.objects[position]\n",
    "        self.objects = np.delete(self.objects, position)\n",
    "        return temp_object       \n",
    "\n",
    "    def have_property(self,property):\n",
    "        for obj in self.objects:\n",
    "            if obj.property == property:\n",
    "                return True\n",
    "        return False    "
   ]
  },
  {
   "cell_type": "markdown",
   "metadata": {},
   "source": [
    "## Unit Test"
   ]
  },
  {
   "cell_type": "code",
   "execution_count": 45,
   "metadata": {},
   "outputs": [
    {
     "name": "stdout",
     "output_type": "stream",
     "text": [
      "[rock is push, baba is you]\n",
      "/         /         /         null,     /         \n",
      "/         /         /         BABA,null,/         \n",
      "/         /         ROCK,     IS,       PUSH,     \n",
      "/         /         /         YOU,      /         \n",
      "/         /         /         /         /         \n",
      "\n"
     ]
    }
   ],
   "source": [
    "test = Gameplay(5,5)\n",
    "test.tiles[1,3].add_object(Word('baba'))\n",
    "test.tiles[1,3].add_object(Rock())\n",
    "test.tiles[0,3].add_object(Rock())\n",
    "test.tiles[2,3].add_object(Word('is'))\n",
    "test.tiles[3,3].add_object(Word('you'))\n",
    "test.tiles[2,2].add_object(Word('rock'))\n",
    "test.tiles[2,4].add_object(Word('push'))\n",
    "test.get_rules()\n",
    "print(test.rules)\n",
    "print(test)\n"
   ]
  },
  {
   "cell_type": "code",
   "execution_count": 46,
   "metadata": {},
   "outputs": [
    {
     "data": {
      "text/plain": [
       "False"
      ]
     },
     "execution_count": 46,
     "metadata": {},
     "output_type": "execute_result"
    }
   ],
   "source": [
    "test.tiles[0,3].have_property('push')"
   ]
  },
  {
   "cell_type": "code",
   "execution_count": 47,
   "metadata": {},
   "outputs": [
    {
     "name": "stdout",
     "output_type": "stream",
     "text": [
      "\n"
     ]
    }
   ],
   "source": [
    "t = Tile()\n",
    "#t.add_object(Word('water'))\n",
    "print(t.find_word())"
   ]
  },
  {
   "cell_type": "markdown",
   "metadata": {},
   "source": [
    "### Test movement"
   ]
  },
  {
   "cell_type": "code",
   "execution_count": 48,
   "metadata": {},
   "outputs": [
    {
     "name": "stdout",
     "output_type": "stream",
     "text": [
      "/         /         /         /         /         /         /         \n",
      "/         /         PUSH,     /         /         /         /         \n",
      "/         /         ROCK,     IS,       /         /         /         \n",
      "/         /         /         you,      /         /         /         \n",
      "/         /         /         /         /         /         /         \n",
      "/         /         /         /         /         /         /         \n",
      "/         /         /         /         /         /         /         \n",
      "\n"
     ]
    }
   ],
   "source": [
    "test_movement = Gameplay(7,7)\n",
    "test_movement.tiles[1,2].add_object(Word('push'))\n",
    "test_movement.tiles[2,2].add_object(Word('rock'))\n",
    "# test_movement.tiles[0,2].add_object(Baba('you'))\n",
    "test_movement.tiles[2,3].add_object(Word('is'))\n",
    "test_movement.tiles[3,3].add_object(Baba('you'))\n",
    "# test_movement.tiles[4,2].add_object(Baba('you'))\n",
    "# test_movement.tiles[2,1].add_object(Baba('you'))\n",
    "test_movement.get_rules()\n",
    "print(test_movement)"
   ]
  },
  {
   "cell_type": "code",
   "execution_count": 49,
   "metadata": {},
   "outputs": [
    {
     "name": "stdout",
     "output_type": "stream",
     "text": [
      "/         /         /         /         /         /         /         \n",
      "/         /         PUSH,     /         /         /         /         \n",
      "/         /         ROCK,     IS,       /         /         /         \n",
      "/         /         /         /         /         /         /         \n",
      "/         /         /         you,      /         /         /         \n",
      "/         /         /         /         /         /         /         \n",
      "/         /         /         /         /         /         /         \n",
      "\n"
     ]
    }
   ],
   "source": [
    "test_movement.move_down()\n",
    "print(test_movement)\n",
    "if test_movement.check_win():\n",
    "    print('You win')\n",
    "if test_movement.check_lose():\n",
    "    print('You lose')"
   ]
  },
  {
   "cell_type": "code",
   "execution_count": 50,
   "metadata": {},
   "outputs": [
    {
     "name": "stdout",
     "output_type": "stream",
     "text": [
      "/         /         /         /         /         /         /         \n",
      "/         /         PUSH,     /         /         /         /         \n",
      "/         /         ROCK,     IS,       /         /         /         \n",
      "/         /         /         you,      /         /         /         \n",
      "/         /         /         /         /         /         /         \n",
      "/         /         /         /         /         /         /         \n",
      "/         /         /         /         /         /         /         \n",
      "\n"
     ]
    }
   ],
   "source": [
    "test_movement.move_up()\n",
    "print(test_movement)\n",
    "if test_movement.check_win():\n",
    "    print('You win')\n",
    "if test_movement.check_lose():\n",
    "    print('You lose')"
   ]
  },
  {
   "cell_type": "code",
   "execution_count": 51,
   "metadata": {},
   "outputs": [
    {
     "name": "stdout",
     "output_type": "stream",
     "text": [
      "/         /         /         /         /         /         /         \n",
      "/         /         PUSH,     /         /         /         /         \n",
      "/         /         ROCK,     IS,       /         /         /         \n",
      "/         /         you,      /         /         /         /         \n",
      "/         /         /         /         /         /         /         \n",
      "/         /         /         /         /         /         /         \n",
      "/         /         /         /         /         /         /         \n",
      "\n"
     ]
    }
   ],
   "source": [
    "test_movement.move_left()\n",
    "print(test_movement)\n",
    "if test_movement.check_win():\n",
    "    print('You win')\n",
    "if test_movement.check_lose():\n",
    "    print('You lose')"
   ]
  },
  {
   "cell_type": "code",
   "execution_count": 52,
   "metadata": {},
   "outputs": [
    {
     "name": "stdout",
     "output_type": "stream",
     "text": [
      "/         /         /         /         /         /         /         \n",
      "/         /         PUSH,     /         /         /         /         \n",
      "/         /         ROCK,     IS,       /         /         /         \n",
      "/         /         /         you,      /         /         /         \n",
      "/         /         /         /         /         /         /         \n",
      "/         /         /         /         /         /         /         \n",
      "/         /         /         /         /         /         /         \n",
      "\n"
     ]
    }
   ],
   "source": [
    "test_movement.move_right()\n",
    "print(test_movement)\n",
    "if test_movement.check_win():\n",
    "    print('You win')\n",
    "if test_movement.check_lose():\n",
    "    print('You lose')"
   ]
  },
  {
   "cell_type": "markdown",
   "metadata": {},
   "source": [
    "### Map Loading"
   ]
  },
  {
   "cell_type": "code",
   "execution_count": 62,
   "metadata": {},
   "outputs": [
    {
     "name": "stdout",
     "output_type": "stream",
     "text": [
      "BABA,     IS,       YOU,      /         /         /         /         /         /         /         /         /         /         /         /         /         /         /         /         /         /         /         /         /         /         /         FLAG,     IS,       WIN,      \n",
      "/         /         /         /         /         /         /         /         /         /         /         /         /         /         /         /         /         /         /         /         /         /         /         /         /         /         /         /         /         \n",
      "/         /         /         /         /         /         /         /         /         /         /         /         /         /         /         /         /         /         /         /         /         /         /         /         /         /         /         /         /         \n",
      "/         /         /         /         /         /         /         /         /         /         /         /         /         /         /         /         /         /         /         /         /         /         /         /         /         /         /         /         /         \n",
      "/         /         /         /         /         /         /         /         /         /         /         /         /         /         /         /         /         /         /         /         /         /         /         /         /         /         /         /         /         \n",
      "/         /         /         /         /         null,     /         /         /         /         /         /         /         /         /         /         /         /         /         /         /         /         /         /         /         /         /         /         /         \n",
      "/         /         /         /         null,     null,     null,     null,     null,     null,     null,     null,     null,     null,     null,     null,     null,     null,     null,     null,     null,     null,     null,     null,     null,     /         /         /         /         \n",
      "/         /         /         /         null,     /         /         /         /         /         /         /         /         /         null,     /         /         /         /         /         /         /         /         /         null,     /         /         /         /         \n",
      "/         /         /         /         null,     /         /         /         /         /         /         /         /         /         null,     /         /         /         /         /         /         /         /         /         null,     /         /         /         /         \n",
      "/         /         /         /         null,     /         /         /         /         /         /         /         /         /         null,     /         /         /         /         /         /         /         /         /         null,     /         /         /         /         \n",
      "/         /         /         /         null,     /         /         /         /         null,null,/         /         /         /         null,     /         /         /         /         null,     /         /         /         /         null,     /         /         /         /         \n",
      "/         /         /         /         null,     /         /         /         /         /         /         /         /         /         null,     /         /         /         /         /         /         /         /         /         null,     /         /         /         /         \n",
      "/         /         /         /         null,     /         /         /         /         /         /         /         /         /         null,     /         /         /         /         /         /         /         /         /         null,     /         /         /         /         \n",
      "/         /         /         /         null,     /         /         /         /         /         /         /         /         /         null,     /         /         /         /         /         /         /         /         /         null,     /         /         /         /         \n",
      "/         /         /         /         null,     null,     null,     null,     null,     null,     null,     null,     null,     null,     null,     null,     null,     null,     null,     null,     null,     null,     null,     null,     null,     /         /         /         /         \n",
      "/         /         /         /         /         /         /         /         /         /         /         /         /         /         /         /         /         /         /         /         /         /         /         /         /         /         /         /         /         \n",
      "/         /         /         /         /         /         /         /         /         /         /         /         /         /         /         /         /         /         /         /         /         /         /         /         /         /         /         /         /         \n",
      "/         /         /         /         /         /         /         /         /         /         /         /         /         /         /         /         /         /         /         /         /         /         /         /         /         /         /         /         /         \n",
      "/         /         /         /         /         /         /         /         /         /         /         /         /         /         /         /         /         /         /         /         /         /         /         /         /         /         /         /         /         \n",
      "WALL,     IS,       STOP,     /         /         /         /         /         /         /         /         /         /         /         /         /         /         /         /         /         /         /         /         /         /         /         ROCK,     IS,       PUSH,     \n",
      "\n"
     ]
    }
   ],
   "source": [
    "map_load_test = Gameplay(20,20)\n",
    "map_load_test.load_map('../../resources/maps/map_1.csv','../../resources/maps/map_1.info')\n",
    "map_load_test.tiles[5,5].add_object(Baba(''))\n",
    "print(map_load_test)"
   ]
  },
  {
   "cell_type": "code",
   "execution_count": 63,
   "metadata": {},
   "outputs": [
    {
     "name": "stdout",
     "output_type": "stream",
     "text": [
      "[baba is you, flag is win, wall is stop, rock is push]\n"
     ]
    }
   ],
   "source": [
    "map_load_test.get_rules()\n",
    "print(map_load_test.rules)\n",
    "\n",
    "map_load_test.apply_rules()"
   ]
  },
  {
   "cell_type": "code",
   "execution_count": 65,
   "metadata": {},
   "outputs": [
    {
     "name": "stdout",
     "output_type": "stream",
     "text": [
      "you\n",
      "BABA,     IS,       YOU,      /         /         /         /         /         /         /         /         /         /         /         /         /         /         /         /         /         /         /         /         /         /         /         FLAG,     IS,       WIN,      \n",
      "/         /         /         /         /         /         /         /         /         /         /         /         /         /         /         /         /         /         /         /         /         /         /         /         /         /         /         /         /         \n",
      "/         /         /         /         /         /         /         /         /         /         /         /         /         /         /         /         /         /         /         /         /         /         /         /         /         /         /         /         /         \n",
      "/         /         /         /         /         /         /         /         /         /         /         /         /         /         /         /         /         /         /         /         /         /         /         /         /         /         /         /         /         \n",
      "/         /         /         /         /         /         /         /         /         /         /         /         /         /         /         /         /         /         /         /         /         /         /         /         /         /         /         /         /         \n",
      "/         /         /         /         /         you,      /         /         /         /         /         /         /         /         /         /         /         /         /         /         /         /         /         /         /         /         /         /         /         \n",
      "/         /         /         /         stop,     stop,     stop,     stop,     stop,     stop,     stop,     stop,     stop,     stop,     stop,     stop,     stop,     stop,     stop,     stop,     stop,     stop,     stop,     stop,     stop,     /         /         /         /         \n",
      "/         /         /         /         stop,     /         /         /         /         /         /         /         /         /         push,     /         /         /         /         /         /         /         /         /         stop,     /         /         /         /         \n",
      "/         /         /         /         stop,     /         /         /         /         /         /         /         /         /         push,     /         /         /         /         /         /         /         /         /         stop,     /         /         /         /         \n",
      "/         /         /         /         stop,     /         /         /         /         /         /         /         /         /         push,     /         /         /         /         /         /         /         /         /         stop,     /         /         /         /         \n",
      "/         /         /         /         stop,     /         /         /         /         you,push, /         /         /         /         push,     /         /         /         /         win,      /         /         /         /         stop,     /         /         /         /         \n",
      "/         /         /         /         stop,     /         /         /         /         /         /         /         /         /         push,     /         /         /         /         /         /         /         /         /         stop,     /         /         /         /         \n",
      "/         /         /         /         stop,     /         /         /         /         /         /         /         /         /         push,     /         /         /         /         /         /         /         /         /         stop,     /         /         /         /         \n",
      "/         /         /         /         stop,     /         /         /         /         /         /         /         /         /         push,     /         /         /         /         /         /         /         /         /         stop,     /         /         /         /         \n",
      "/         /         /         /         stop,     stop,     stop,     stop,     stop,     stop,     stop,     stop,     stop,     stop,     stop,     stop,     stop,     stop,     stop,     stop,     stop,     stop,     stop,     stop,     stop,     /         /         /         /         \n",
      "/         /         /         /         /         /         /         /         /         /         /         /         /         /         /         /         /         /         /         /         /         /         /         /         /         /         /         /         /         \n",
      "/         /         /         /         /         /         /         /         /         /         /         /         /         /         /         /         /         /         /         /         /         /         /         /         /         /         /         /         /         \n",
      "/         /         /         /         /         /         /         /         /         /         /         /         /         /         /         /         /         /         /         /         /         /         /         /         /         /         /         /         /         \n",
      "/         /         /         /         /         /         /         /         /         /         /         /         /         /         /         /         /         /         /         /         /         /         /         /         /         /         /         /         /         \n",
      "WALL,     IS,       STOP,     /         /         /         /         /         /         /         /         /         /         /         /         /         /         /         /         /         /         /         /         /         /         /         ROCK,     IS,       PUSH,     \n",
      "\n"
     ]
    }
   ],
   "source": [
    "print(map_load_test.tiles[5,5].objects[0].property)\n",
    "print(map_load_test)"
   ]
  }
 ],
 "metadata": {
  "interpreter": {
   "hash": "f3be62fbed0773d308cc5a2cdab69d893c57d76fcb7b369dd526b73ecb8915f4"
  },
  "kernelspec": {
   "display_name": "Python 3.8.8 ('base')",
   "language": "python",
   "name": "python3"
  },
  "language_info": {
   "codemirror_mode": {
    "name": "ipython",
    "version": 3
   },
   "file_extension": ".py",
   "mimetype": "text/x-python",
   "name": "python",
   "nbconvert_exporter": "python",
   "pygments_lexer": "ipython3",
   "version": "3.8.8"
  },
  "orig_nbformat": 4
 },
 "nbformat": 4,
 "nbformat_minor": 2
}
