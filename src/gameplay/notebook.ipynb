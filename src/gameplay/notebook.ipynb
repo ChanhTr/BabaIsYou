{
 "cells": [
  {
   "cell_type": "markdown",
   "metadata": {},
   "source": [
    "## Gameplay prototype"
   ]
  },
  {
   "cell_type": "code",
   "execution_count": 1,
   "metadata": {},
   "outputs": [],
   "source": [
    "import numpy as np"
   ]
  },
  {
   "cell_type": "code",
   "execution_count": 23,
   "metadata": {},
   "outputs": [],
   "source": [
    "class Gameplay:\n",
    "    def __init__(self, n_rows, n_cols):\n",
    "        self.n_rows = n_rows\n",
    "        self.n_cols = n_cols \n",
    "        self.prefixes = ['baba', 'rock', 'water', 'skull', 'wall', 'flag'] \n",
    "        self.suffixes = ['win', 'defeat', 'sink', 'you', 'push', 'stop']\n",
    "        self.rules = []\n",
    "        self.tiles = np.zeros((n_rows, n_cols), dtype=Tile) #chuot bach thay dtype=object bang tile\n",
    "        for i in range(n_cols):\n",
    "            for j in range(n_rows):\n",
    "                self.tiles[i,j] = Tile() \n",
    "    \n",
    "    def __repr__(self):\n",
    "        ret_val = ''\n",
    "        for i in range(self.n_rows):\n",
    "            for j in range(self.n_cols):\n",
    "                tile_string = ''\n",
    "                if len(self.tiles[i,j].objects) == 0:\n",
    "                    tile_string += '/'\n",
    "                    # tile_string += 'null'\n",
    "                else:\n",
    "                    for obj in self.tiles[i,j].objects:\n",
    "                        if isinstance(obj, Word):\n",
    "                            tile_string += obj.value\n",
    "                        else:\n",
    "                            tile_string += obj.property if obj.property !='' else 'null'\n",
    "                        tile_string += ','\n",
    "                ret_val += '{:10}'.format(tile_string)\n",
    "                # ret_val += tile_string\n",
    "            ret_val += '\\n'           \n",
    "        return ret_val\n",
    "\n",
    "    def get_rules(self):\n",
    "        self.rules = []\n",
    "        for i in range(self.n_rows):\n",
    "            for j in range(self.n_cols):\n",
    "                if self.tiles[i,j].find_word() == 'is':\n",
    "                    if j-1 >= 0 and j+1 <= self.n_cols-1:\n",
    "                        if self.tiles[i,j-1].find_word() in self.prefixes and self.tiles[i,j+1].find_word() in self.suffixes:\n",
    "                            self.rules += [Rule(self.tiles[i,j-1].find_word(),self.tiles[i,j+1].find_word())]\n",
    "                    if i-1 >= 0 and i+1 <= self.n_rows-1:\n",
    "                        if self.tiles[i-1,j].find_word() in self.prefixes and self.tiles[i+1,j].find_word() in self.suffixes:\n",
    "                            self.rules += [Rule(self.tiles[i-1,j].find_word(),self.tiles[i+1,j].find_word())]\n",
    "\n",
    "\n",
    "    def move_up(self):\n",
    "        pass\n",
    "\n",
    "    def move_down(self):\n",
    "        pass\n",
    "\n",
    "    def move_left(self):\n",
    "        pass\n",
    "\n",
    "    def move_right(self):\n",
    "        pass\n",
    "\n",
    "    def push(self, direction, rows, cols):\n",
    "        pass\n",
    "\n",
    "    def check_win(self):\n",
    "        pass\n",
    "\n",
    "    def check_lose(self):\n",
    "        pass\n",
    "\n",
    "    def reset_game(self):\n",
    "        pass\n",
    "\n",
    "    def load_map(self, map_file):\n",
    "        pass"
   ]
  },
  {
   "cell_type": "markdown",
   "metadata": {},
   "source": [
    "## Object prototype"
   ]
  },
  {
   "cell_type": "code",
   "execution_count": 3,
   "metadata": {},
   "outputs": [],
   "source": [
    "class Object:\n",
    "    def __init__(self, property=''):\n",
    "        self.property = property\n",
    "    \n",
    "    def interact(self, another_object:object):\n",
    "        pass"
   ]
  },
  {
   "cell_type": "code",
   "execution_count": 4,
   "metadata": {},
   "outputs": [],
   "source": [
    "class Baba(Object):\n",
    "    def interact(self, another_object:object):\n",
    "        pass"
   ]
  },
  {
   "cell_type": "code",
   "execution_count": 5,
   "metadata": {},
   "outputs": [],
   "source": [
    "class Rock(Object):\n",
    "    def interact(self, another_object:object):\n",
    "        pass"
   ]
  },
  {
   "cell_type": "code",
   "execution_count": 6,
   "metadata": {},
   "outputs": [],
   "source": [
    "class Water(Object):\n",
    "    def interact(self, another_object:object):\n",
    "        pass"
   ]
  },
  {
   "cell_type": "code",
   "execution_count": 7,
   "metadata": {},
   "outputs": [],
   "source": [
    "class Wall(Object):\n",
    "    def interact(self, another_object:object):\n",
    "        pass"
   ]
  },
  {
   "cell_type": "code",
   "execution_count": 8,
   "metadata": {},
   "outputs": [],
   "source": [
    "class Flag(Object):\n",
    "    def interact(self, another_object:object):\n",
    "        pass"
   ]
  },
  {
   "cell_type": "code",
   "execution_count": 9,
   "metadata": {},
   "outputs": [],
   "source": [
    "class Skull(Object):\n",
    "    def interact(self, another_object:object):\n",
    "        pass"
   ]
  },
  {
   "cell_type": "code",
   "execution_count": 10,
   "metadata": {},
   "outputs": [],
   "source": [
    "class Word(Object):\n",
    "    def __init__(self, value):\n",
    "        super().__init__('push')\n",
    "        self.value = value\n",
    "\n",
    "    def interact(self, another_object:object):\n",
    "        pass"
   ]
  },
  {
   "cell_type": "markdown",
   "metadata": {},
   "source": [
    "## Rule prototype"
   ]
  },
  {
   "cell_type": "code",
   "execution_count": 11,
   "metadata": {},
   "outputs": [],
   "source": [
    "class Rule:\n",
    "    def __init__(self, first, second):\n",
    "        self.first = first\n",
    "        self.second = second\n",
    "    def __repr__(self):\n",
    "        return self.first + \" is \" + self.second\n",
    "            "
   ]
  },
  {
   "cell_type": "markdown",
   "metadata": {},
   "source": [
    "## Tile prototype"
   ]
  },
  {
   "cell_type": "code",
   "execution_count": 12,
   "metadata": {},
   "outputs": [],
   "source": [
    "class Tile:\n",
    "    def __init__(self):\n",
    "        self.objects = np.array([], dtype=object)\n",
    "    def add_object(self, obj : Object):\n",
    "        self.objects = np.append(self.objects, [obj])\n",
    "    def find_word(self):\n",
    "        for obj in self.objects:\n",
    "            if isinstance(obj, Word):\n",
    "                return obj.value\n",
    "        return ''"
   ]
  },
  {
   "cell_type": "markdown",
   "metadata": {},
   "source": [
    "## Unit Test"
   ]
  },
  {
   "cell_type": "code",
   "execution_count": 24,
   "metadata": {},
   "outputs": [
    {
     "name": "stdout",
     "output_type": "stream",
     "text": [
      "[rock is push, baba is you]\n",
      "/         /         /         /         /         \n",
      "/         /         /         baba,     /         \n",
      "/         /         rock,     is,       push,     \n",
      "/         /         /         you,      /         \n",
      "/         /         /         /         /         \n",
      "\n"
     ]
    }
   ],
   "source": [
    "test = Gameplay(5,5)\n",
    "test.tiles[1,3].add_object(Word('baba'))\n",
    "test.tiles[2,3].add_object(Word('is'))\n",
    "test.tiles[3,3].add_object(Word('you'))\n",
    "test.tiles[2,2].add_object(Word('rock'))\n",
    "test.tiles[2,4].add_object(Word('push'))\n",
    "test.get_rules()\n",
    "print(test.rules)\n",
    "print(test)\n"
   ]
  },
  {
   "cell_type": "code",
   "execution_count": 68,
   "metadata": {},
   "outputs": [
    {
     "name": "stdout",
     "output_type": "stream",
     "text": [
      "\n"
     ]
    }
   ],
   "source": [
    "t = Tile()\n",
    "#t.add_object(Word('water'))\n",
    "print(t.find_word())"
   ]
  }
 ],
 "metadata": {
  "interpreter": {
   "hash": "f3be62fbed0773d308cc5a2cdab69d893c57d76fcb7b369dd526b73ecb8915f4"
  },
  "kernelspec": {
   "display_name": "Python 3.8.8 ('base')",
   "language": "python",
   "name": "python3"
  },
  "language_info": {
   "codemirror_mode": {
    "name": "ipython",
    "version": 3
   },
   "file_extension": ".py",
   "mimetype": "text/x-python",
   "name": "python",
   "nbconvert_exporter": "python",
   "pygments_lexer": "ipython3",
   "version": "3.8.8"
  },
  "orig_nbformat": 4
 },
 "nbformat": 4,
 "nbformat_minor": 2
}
